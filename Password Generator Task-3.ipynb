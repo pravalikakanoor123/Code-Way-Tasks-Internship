{
 "cells": [
  {
   "cell_type": "code",
   "execution_count": 1,
   "id": "f0aa8f99",
   "metadata": {},
   "outputs": [
    {
     "name": "stdout",
     "output_type": "stream",
     "text": [
      "Welcome to the Password Generator!\n",
      "How many letters would do you like in your password:2\n",
      "How many numbers would do you like in your password:1\n",
      "How many symbols would do you like in your password:1\n",
      "3 3\n",
      "B B\n",
      "B B\n",
      "!@#$%&?+ !@#$%&?+\n",
      "your Random Password is:3BB!@#$%&?+\n"
     ]
    }
   ],
   "source": [
    "import random \n",
    "letters =  ['Á','B','C','D','E','F','G','H','I','J','K','L','M','N','O','P','Q','R','S','T','U','V','W','X','Y','Z']\n",
    "numbers = ['0','1','2','3','4','5','6','7','8','9']\n",
    "symbols = ['!''@''#''$''%''&''?''+']\n",
    "print(\"Welcome to the Password Generator!\")\n",
    "num_letters = eval(input(\"How many letters would do you like in your password:\"))\n",
    "num_numbers = eval(input(\"How many numbers would do you like in your password:\"))\n",
    "num_symbols = eval(input(\"How many symbols would do you like in your password:\"))\n",
    "\n",
    "password_list = []\n",
    "for i in range(1,num_letters + 1):\n",
    "    password_list.append(random.choice(letters))\n",
    "for i in range(1,num_numbers+ 1):\n",
    "    password_list.append(random.choice(numbers))\n",
    "for i in range(1,num_symbols + 1):\n",
    "    password_list.append(random.choice(symbols))\n",
    "\n",
    "random.shuffle(password_list)\n",
    "password = \"\"\n",
    "for i in password_list:\n",
    "    password += i\n",
    "    print(i, i)\n",
    "\n",
    "pwd = ''.join(password_list)\n",
    "print(f\"your Random Password is:{pwd}\")\n",
    "    \n"
   ]
  },
  {
   "cell_type": "code",
   "execution_count": null,
   "id": "dd2591ef",
   "metadata": {},
   "outputs": [],
   "source": []
  }
 ],
 "metadata": {
  "kernelspec": {
   "display_name": "Python 3 (ipykernel)",
   "language": "python",
   "name": "python3"
  },
  "language_info": {
   "codemirror_mode": {
    "name": "ipython",
    "version": 3
   },
   "file_extension": ".py",
   "mimetype": "text/x-python",
   "name": "python",
   "nbconvert_exporter": "python",
   "pygments_lexer": "ipython3",
   "version": "3.11.5"
  }
 },
 "nbformat": 4,
 "nbformat_minor": 5
}
