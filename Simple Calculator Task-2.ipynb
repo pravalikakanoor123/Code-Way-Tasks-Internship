{
 "cells": [
  {
   "cell_type": "code",
   "execution_count": 1,
   "id": "be057f53",
   "metadata": {},
   "outputs": [
    {
     "name": "stdout",
     "output_type": "stream",
     "text": [
      "select an operation to perform: \n",
      "1. Addition \n",
      "2. Substration \n",
      "3. Multiplication \n",
      "4. Division \n",
      "4\n",
      "Enter the first number:10\n",
      "Enter the second number:5\n",
      "the result is2.0\n"
     ]
    }
   ],
   "source": [
    "#* How to bulid a simple calculator *\n",
    "# 1. Addition\n",
    "# 2. substration\n",
    "# 3. multiplication\n",
    "# 4. Divison\n",
    "print(\"select an operation to perform: \")\n",
    "print(\"1. Addition \")\n",
    "print(\"2. Substration \")\n",
    "print(\"3. Multiplication \")\n",
    "print(\"4. Division \")\n",
    "operation= input()\n",
    "if operation == '1':\n",
    "    num1=input(\"Enter the first number:\")\n",
    "    num2=input(\"Enter the second number:\") \n",
    "    print(\"the sum is\" + str(int(num1) + int(num2)))\n",
    "elif operation == '2':\n",
    "    num1=input(\"Enter the first number:\")\n",
    "    num2=input(\"Enter the second number:\")\n",
    "    print(\"the difference is\" + str(int(num1) - int(num2)))\n",
    "elif operation== '3':\n",
    "    num1=input(\"Enter the first number:\")\n",
    "    num2=input(\"Enter the second number:\")\n",
    "    print(\"the product is\" + str(int(num1) * int(num2)))\n",
    "elif operation == '4':\n",
    "    num1=input(\"Enter the first number:\")\n",
    "    num2=input(\"Enter the second number:\")\n",
    "    print(\"the result is\" + str(int(num1) / int(num2)))\n",
    "else:\n",
    "    print(\"Invaild input\") "
   ]
  },
  {
   "cell_type": "code",
   "execution_count": null,
   "id": "a01e2f12",
   "metadata": {},
   "outputs": [],
   "source": []
  }
 ],
 "metadata": {
  "kernelspec": {
   "display_name": "Python 3 (ipykernel)",
   "language": "python",
   "name": "python3"
  },
  "language_info": {
   "codemirror_mode": {
    "name": "ipython",
    "version": 3
   },
   "file_extension": ".py",
   "mimetype": "text/x-python",
   "name": "python",
   "nbconvert_exporter": "python",
   "pygments_lexer": "ipython3",
   "version": "3.11.5"
  }
 },
 "nbformat": 4,
 "nbformat_minor": 5
}
